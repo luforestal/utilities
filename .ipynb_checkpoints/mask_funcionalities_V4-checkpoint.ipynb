{
 "cells": [
  {
   "cell_type": "markdown",
   "metadata": {},
   "source": [
    "# Funtionalities\n",
    "\n",
    "\n",
    "read_geometries\n",
    "\n",
    "\n",
    "Input: .Json file.\n",
    "        From Shape with Geopandas (gpd). Return shapely.geometry.polygon.Polygon.\n",
    "        buffer size: For improve the point representation in a raster file need to assing a buffer area for point geometry\n",
    "        From Json with Geopandas (gpd). \n",
    "Return shapely.geometry.polygon.Polygon.\n",
    "\n",
    "composite\n",
    "\n",
    "Input: Image_path, band dataset from .SAFE (10_m) Path.\n",
    "       Out_path, path to save the return.\n",
    "       rgb=[4,3,2] bands to composite the RGB. The user can do another composite. exameple: False_color [8, 4, 3]\n",
    "       https://custom-scripts.sentinel-hub.com/custom-scripts/sentinel-2/composites/\n",
    "       \n",
    "\n",
    "vector_to_raster\n",
    "\n",
    "Input\n",
    "From vector (shapely.geometry.polygon.Polygon) to raster.  \n",
    "Return an image array with input geometries burned in.\n",
    "\n",
    "https://rasterio.readthedocs.io/en/latest/api/rasterio.mask.html\n",
    "https://rasterio.readthedocs.io/en/latest/topics/features.html\n",
    "\n",
    "\n",
    "mask_raster\n",
    "\n",
    "Create a raster mask from vectorial geometries.\n",
    "\n",
    "Input:  .tiff file.\n",
    "        shapes, vector information in an Iterable object (shapely.geometry.polygon.Polygon).\n",
    "        out_path, path to save the return.\n",
    "        Invert, If False (default) pixels outside shapes will be masked. If True, pixels inside shape will be masked\n",
    "\n",
    "Return: mask in np.array \n",
    "\n",
    "\n",
    "get_coords\n",
    "\n",
    "Get the coordenates of the geometries (polygons or points) from a raster file (mask)\n",
    "\n",
    "Inputs: .tiff file \n",
    "        out_path, path to save the return in shape format\n",
    "        \n",
    "Return: Geodatabase with geometries coordenates \n",
    "        \n",
    "\n",
    "mask_and_crop_raster\n",
    "\n",
    "This function is same that mask_raster function but the shapes is a list instead of an iterator that allows crop the raster in the each polygons.       "
   ]
  },
  {
   "cell_type": "code",
   "execution_count": 1,
   "metadata": {},
   "outputs": [],
   "source": [
    "import itertools\n",
    "import string\n",
    "import random\n",
    "\n",
    "\n",
    "import earthpy.spatial as es\n",
    "import earthpy.plot as ep\n",
    "import geopandas as gpd\n",
    "import glob\n",
    "import json\n",
    "import matplotlib as mpl\n",
    "import matplotlib.pyplot as plt\n",
    "import numpy as np\n",
    "import os\n",
    "import rasterio as rio\n",
    "\n",
    "\n",
    "from pathlib import Path\n",
    "from PIL import Image\n",
    "from numpy import ma\n",
    "from rasterio.enums import Resampling\n",
    "from rasterio.mask import mask\n",
    "from rasterio.plot import plotting_extent\n",
    "from shapely.geometry import Point, mapping, shape\n",
    "from shapely import wkt\n",
    "from shutil import copyfile"
   ]
  },
  {
   "cell_type": "code",
   "execution_count": 2,
   "metadata": {},
   "outputs": [],
   "source": [
    "def read_geometries(input_, in_crs, out_crs, buffer = None, file=False):\n",
    "\n",
    "\n",
    "    if file:\n",
    "        file = Path(input_)\n",
    "        # This is a json file\n",
    "        if file.suffix == '.json':\n",
    "            gdf = gpd.read_file(file).to_crs(out_crs) #project the coordenate system to raster CRS\n",
    "            geometries = [row['geometry'] for i, row in gdf.iterrows()] #read all geometries in the file\n",
    "        elif file.suffix == '.shp':\n",
    "            geometries = [row.geometry for idx, row in gpd.read_file(file).iterrows()]\n",
    "        else:\n",
    "            print(f'This {file.name} is not supported.')\n",
    "            return\n",
    "    \n",
    "    elif isinstance(input_, str):\n",
    "        # This is a string\n",
    "        # We assume this is a WKT\n",
    "        wkts = [wkt.loads(input_)]\n",
    "        gdf = gpd.GeoDataFrame(geometry=wkts)\n",
    "        gdf = gdf.set_crs(in_crs).to_crs(out_crs)\n",
    "        geometries = [row['geometry'] for i, row in gdf.iterrows()]\n",
    "    \n",
    "    else:\n",
    "        print(f'{input_} no supported')\n",
    "        return\n",
    "    \n",
    "    shapes = []\n",
    "    \n",
    "    if buffer:\n",
    "        shapes = [g.buffer(buffer).envelope for g in geometries if g.type=='Point'] #buffer to points geometries (improve the visibility)\n",
    "    \n",
    "    shapes.extend([g for g in geometries if g.type=='Polygon']) #join all the geometries\n",
    "    \n",
    "    return shapes\n",
    "    "
   ]
  },
  {
   "cell_type": "code",
   "execution_count": null,
   "metadata": {},
   "outputs": [],
   "source": [
    "# def open_file(file, buffer = 10):\n",
    "#     file = Path(file)\n",
    "#     gdf = gpd.read_file(file).to_crs('EPSG:32631') #project the coordenate system to raster CRS\n",
    "#     geometries = [row['geometry'] for i, row in gdf.iterrows()] #read all geometries in the file\n",
    "#     shapes = [g.buffer(buffer).envelope for g in geometries if g.type=='Point'] #buffer to points geometries (improve the visibility)\n",
    "#     shapes.extend([g for g in geometries if g.type=='Polygon']) #join all the geometries\n",
    "    \n",
    "#     return shapes\n",
    "    "
   ]
  },
  {
   "cell_type": "code",
   "execution_count": null,
   "metadata": {},
   "outputs": [],
   "source": [
    "def normalize(array):\n",
    "    array_min, array_max = array.min(), array.max()\n",
    "    return (array - array_min) / (array_max - array_min)"
   ]
  },
  {
   "cell_type": "code",
   "execution_count": null,
   "metadata": {},
   "outputs": [],
   "source": [
    "def plot_composition(raster):\n",
    "    src = rio.open(raster, mode='r')\n",
    "    true_color = src.read()\n",
    "    b1 = normalize(true_color[0])\n",
    "    b2 = normalize(true_color[1])\n",
    "    b3 = normalize(true_color[2])\n",
    "    nrg = np.dstack((b1, b2,b3))\n",
    "    return plt.imshow(nrg)"
   ]
  },
  {
   "cell_type": "code",
   "execution_count": null,
   "metadata": {},
   "outputs": [],
   "source": [
    "def get_bands_dict(image_path):\n",
    "    \n",
    "    band_path = glob.glob(os.path.join(image_path, '*_B*.jp2'))\n",
    "    bands = {int(a[a.find('_B')+2:a.find('_B')+4]):a for a in band_path}\n",
    "    \n",
    "    return bands"
   ]
  },
  {
   "cell_type": "code",
   "execution_count": null,
   "metadata": {},
   "outputs": [],
   "source": [
    "def composite(image_path, out_path, rgb=[4,3,2]):\n",
    "    \n",
    "    bands = get_bands_dict(image_path)\n",
    "    \n",
    "    if len(list(set(bands.keys()) & set(rgb))) != 3:\n",
    "        print(f'One or more input rgb({rgb}) bands not exists in source path')\n",
    "        return\n",
    "    \n",
    "    b = rio.open(bands[rgb[2]], driver='JP2OpenJPEG') #blue\n",
    "    g = rio.open(bands[rgb[1]], driver='JP2OpenJPEG') #green\n",
    "    r = rio.open(bands[rgb[0]], driver='JP2OpenJPEG') #red\n",
    "        \n",
    "    #Empty raster write the composite\n",
    "    emp = rio.open(out_path,'w',driver='Gtiff',\n",
    "                        width=r.width, \n",
    "                        height=r.height, #width and height of any band\n",
    "                        count=3,\n",
    "                        crs=r.crs, #coordenate system\n",
    "                        transform=r.transform, #Transfor from pixel coordinates of source to csr of the input shapes\n",
    "                        dtype=r.dtypes[0])\n",
    "\n",
    "    #combine the bands RGB in empty raster\n",
    "    print('Making composite...')\n",
    "    emp.write(b.read(1),3) #blue\n",
    "    emp.write(g.read(1),2) #green\n",
    "    emp.write(r.read(1),1) #red\n",
    "    emp.close()\n",
    "    \n",
    "    plot_composition(out_path)\n",
    "    \n",
    "\n",
    "    \n",
    "    print(f'Done in {out_path}')"
   ]
  },
  {
   "cell_type": "code",
   "execution_count": null,
   "metadata": {},
   "outputs": [],
   "source": [
    "def vector_to_raster(raster, shapes):\n",
    "    raster =  rio.open(raster)\n",
    "    geometries_raster = rio.features.rasterize(((g,255) for g in shapes), out_shape=raster.shape, crs=raster.crs, transform= raster.transform, all_touched=False)\n",
    "    display(Image.fromarray(geometries_raster))\n",
    "    \n",
    "    return geometries_raster"
   ]
  },
  {
   "cell_type": "code",
   "execution_count": null,
   "metadata": {},
   "outputs": [],
   "source": [
    "def mask_all_raster(raster, shapes, out_path, invert=True):\n",
    "    \n",
    "    raster = rio.open(raster)\n",
    "    masked = rio.mask.mask(raster, shapes, all_touched=True, invert=invert)\n",
    "\n",
    "    with rio.Env():\n",
    "\n",
    "        profile = raster.profile #to get the profile\n",
    "        profile.update(compress='lzw')\n",
    "\n",
    "\n",
    "        with rio.open(out_path, 'w', **profile) as dst:\n",
    "                dst.write(masked[0], 1)\n",
    "                \n",
    "\n",
    "        msk = rio.open(out_path)        \n",
    "        plt.figure(figsize=(8,10))\n",
    "        plot.show(msk, transform=msk.transform)\n",
    "        plt.imshow(msk[0].read(1), cmap='pink')\n",
    "        \n",
    "        return display(plt.imshow(msk.read(1), cmap='pink'))"
   ]
  },
  {
   "cell_type": "code",
   "execution_count": null,
   "metadata": {},
   "outputs": [],
   "source": [
    "def get_coords(raster, outpath): #.tif outpath in .shp\n",
    "    with rio.open(raster) as src:\n",
    "        profile = src.profile\n",
    "        file = src.read(1).astype(np.float32)\n",
    "        coordenates = []\n",
    "        coordenate_list = []\n",
    "        for shp, val in rio.features.shapes(file, transform=profile['transform']):\n",
    "            coordenates.append(shape(shp))\n",
    "            coordenate_list.append(shp)\n",
    "\n",
    "    d = {'geometry': coordenates}\n",
    "    gdf = gpd.GeoDataFrame(d, index=range(len(coordenates)))\n",
    "    gdf.to_file(driver='ESRI Shapefile', filename=outpath)  \n",
    "    \n",
    "    \n",
    "    return gdf, coordenate_list"
   ]
  },
  {
   "cell_type": "code",
   "execution_count": null,
   "metadata": {},
   "outputs": [],
   "source": [
    "def read_bands(image_path, levels=1, suffix='.jp2'):\n",
    "    level=\"/\".join('*'*levels)\n",
    "    band_path = glob.glob(os.path.join(image_path, level ,f'*_B*{suffix}'))\n",
    "    bands = {(a[a.find('_B')+2:a.find('_B')+8]):a for a in band_path}\n",
    "\n",
    "    return bands"
   ]
  },
  {
   "cell_type": "code",
   "execution_count": null,
   "metadata": {},
   "outputs": [],
   "source": [
    "def copy_bands(inpath, outpath):\n",
    "    \"\"\"Copy/move bands with 10m resolution\n",
    "    \"\"\"\n",
    "    name = Path(inpath).name\n",
    "    \n",
    "    if name.find('10m') != -1:\n",
    "        dst_path = os.path.join(outpath, name)\n",
    "        if not os.path.exists(dst_path) : copyfile(inpath, dst_path)\n",
    "    "
   ]
  },
  {
   "cell_type": "code",
   "execution_count": null,
   "metadata": {},
   "outputs": [],
   "source": [
    "def upscale(inpath, outpath, reference_image):\n",
    "\n",
    "    current_bands = [k[:3] for k in read_bands(outpath, levels=0, suffix='.tif').keys()]\n",
    "    if inpath[inpath.find('_B')+2:inpath.find('_B')+5] in current_bands:\n",
    "        return\n",
    "\n",
    "    band = rio.open(inpath)\n",
    "    res = band.res[0]\n",
    "    \n",
    "    inpath = Path(inpath)\n",
    "    name = inpath.name[:-4]\n",
    "    name = name.replace(str(int(res))+'m','10m')\n",
    "    out_name = f'{name}_resample.tif'\n",
    "    \n",
    "    if res == 10:\n",
    "        return\n",
    "    \n",
    "    upscale_factor = 2 if res == 20 else 6 \n",
    "    \n",
    "    \n",
    "    print(f'Upscaling {name}...')\n",
    "          \n",
    "    reference_band = rio.open(reference_image)\n",
    "    profile = reference_band.profile #to get the profile\n",
    "    \n",
    "    data = band.read(\n",
    "        out_shape=(\n",
    "            band.count,\n",
    "            int(band.height * upscale_factor),\n",
    "            int(band.width * upscale_factor)\n",
    "        ),\n",
    "        resampling=Resampling.bilinear)\n",
    "    \n",
    "    transform = band.transform * band.transform.scale(\n",
    "                                        (band.width / data.shape[-1]),\n",
    "                                        (band.height / data.shape[-2])\n",
    "                                )\n",
    "    profile.update(transform=transform, \n",
    "                   driver='Gtiff')\n",
    "    \n",
    "    with rio.open(os.path.join(outpath, out_name), 'w', **profile) as dst:\n",
    "        dst.write(data[0], 1)\n",
    "    print(f'Done {out_name}')\n",
    "        "
   ]
  },
  {
   "cell_type": "code",
   "execution_count": null,
   "metadata": {},
   "outputs": [],
   "source": [
    "def instantiate_bands(bands_dict, dtype=np.int16):\n",
    "    \"\"\"\n",
    "    Args:\n",
    "        bands_dict (dict): Read from read_bands dictionary\n",
    "    \"\"\" \n",
    "    \n",
    "    d ={}\n",
    "    for key in bands_dict.keys():        \n",
    "        k = 'b'+ key.replace('_10m', '')\n",
    "        opened = rio.open(bands_dict[key])\n",
    "        \n",
    "        d[k] = opened.read().astype(dtype)\n",
    "        \n",
    "    return d, opened\n",
    "   "
   ]
  },
  {
   "cell_type": "code",
   "execution_count": null,
   "metadata": {},
   "outputs": [],
   "source": [
    "def NDWI_mask (band_dic, band_reference, outpath):\n",
    "    \n",
    "    with np.errstate(divide='ignore', invalid='ignore'):\n",
    "        NDWI = ((band_dic['b03']-band_dic['b08'])/(band_dic['b03']+band_dic['b08']))\n",
    "        NDWI_class = np.where(NDWI < 0, 1, np.nan)\n",
    "    \n",
    "\n",
    "    profile = band_reference.profile\n",
    "    profile.update(driver='Gtiff',\n",
    "               dtype = 'float64', \n",
    "               compress='lzw')\n",
    "    \n",
    "    with rio.open((outpath), 'w', **profile) as dst:\n",
    "        dst.write(NDWI_class[0], 1)\n",
    "        \n",
    "    return NDWI_class"
   ]
  },
  {
   "cell_type": "code",
   "execution_count": null,
   "metadata": {
    "scrolled": false
   },
   "outputs": [],
   "source": [
    "# def apply_estimator_mask(estimator):\n",
    "        \n",
    "#         print(estimator)\n",
    "#         empty = np.zeros(estimator.shape).astype(np.float64)\n",
    "        \n",
    "#         if estimator < -1:\n",
    "#             return empty+0\n",
    "#         elif estimator > 1:\n",
    "#             return empty+1\n",
    "#         else:\n",
    "#             return empty + ((1 + estimator) / 2)"
   ]
  },
  {
   "cell_type": "code",
   "execution_count": null,
   "metadata": {},
   "outputs": [],
   "source": [
    "def run_estimator(band_dic, band_reference, outpath):\n",
    "    \n",
    "#     a = np.multiply(10000, \n",
    "#                 (-0.0003402*band_dic['b01'] \\\n",
    "#                 -(0.0004585*band_dic['b02']) \\\n",
    "#                 + (0.001415*band_dic['b03']) \\\n",
    "#                 + (0.01254*band_dic['b04']) \\\n",
    "#                 - (0.01112*band_dic['b05']) \\\n",
    "#                 - (0.01346*band_dic['b06']) \\\n",
    "#                 + (0.002762*band_dic['b07']) \\\n",
    "#                 + (0.002481*band_dic['b08']) \\\n",
    "#                 + (0.009605*band_dic['b8A']) \\\n",
    "#                 + (0.001247*band_dic['b09']) \\\n",
    "#                 - (0.01462*band_dic['b11']) \\\n",
    "#                 + (0.00406*band_dic['b12']))\n",
    "#                )\n",
    "    \n",
    "#     estimator = -1.76e-05+a\n",
    "\n",
    "    estimator = -1.76e-05 + 10000*(-0.0003402*band_dic['b01'] -0.0004585*band_dic['b02'] + 0.001415*band_dic['b03'] + 0.01254*band_dic['b04'] -0.01112*band_dic['b05'] -0.01346*band_dic['b06'] + 0.002762*band_dic['b07'] + 0.002481*band_dic['b08'] + 0.009605*band_dic['b8A'] + 0.001247*band_dic['b09'] -0.01462*band_dic['b11'] + 0.00406*band_dic['b12'])\n",
    "\n",
    "    estimator_mask = np.where(estimator <-1, 0,\n",
    "                         np.where(estimator >1, 1,(1+estimator)/2))\n",
    "                              \n",
    "    profile = band_reference.profile\n",
    "    profile.update(driver='Gtiff',\n",
    "               dtype = 'float64', \n",
    "               compress='lzw')\n",
    "    \n",
    "    with rio.open(outpath, 'w', **profile) as dst:\n",
    "        dst.write(estimator_mask[0], 1)\n",
    "\n",
    "    return estimator_mask"
   ]
  },
  {
   "cell_type": "code",
   "execution_count": null,
   "metadata": {},
   "outputs": [],
   "source": [
    "def represent_save_mask_raster (b1, b2, b3, reference):\n",
    "\n",
    "    b1 = normalize(result[0])\n",
    "    b2 = normalize(result[1])\n",
    "    b3 = normalize(result[2])\n",
    "    nrg = np.dstack((b1, b2,b3))\n",
    "    plt.imshow(nrg)\n",
    "\n",
    "\n",
    "    emp = rio.open('new_RGB_mask.tif','w',driver='Gtiff',\n",
    "                            width=reference.width, \n",
    "                            height=reference.height, #width and height of any band\n",
    "                            count=3,\n",
    "                            crs=reference.crs, #coordenate system\n",
    "                            transform=reference.transform, #Transfor from pixel coordinates of source to csr of the input shapes\n",
    "                            dtype=reference.dtypes[0])\n",
    "\n",
    "    #combine the bands RGB in empty raster   \n",
    "    emp.write(result[0],3) #blue\n",
    "    emp.write(result[1],2) #green\n",
    "    emp.write(result[2],1) #red\n",
    "    emp.close()"
   ]
  },
  {
   "cell_type": "code",
   "execution_count": null,
   "metadata": {},
   "outputs": [],
   "source": [
    "def cividis (x):\n",
    "    #  x must be in [0,1]\n",
    "    #  https://github.com/matplotlib/matplotlib/blob/master/lib/matplotlib/_cm_listed.py\n",
    "    return np.array([x*0.995737, x*0.909344+(1-x)*0.135112, x*0.217772+(1-x)*0.304751]).astype(np.float64)"
   ]
  },
  {
   "cell_type": "code",
   "execution_count": null,
   "metadata": {},
   "outputs": [],
   "source": [
    "def clip_raster_with_shape(raster_path, shapes, suffix='clip'):\n",
    "    \n",
    "    out_folder = Path('./clipped_bands').mkdir(parents=True, exist_ok=True)\n",
    "    \n",
    "    raster_to_clip = rio.open(raster_path)\n",
    "    \n",
    "    out_image,out_transform = rio.mask.mask(raster_to_clip,\n",
    "                                        shapes,\n",
    "                                        crop=True)\n",
    "    \n",
    "    clip_profile = raster_to_clip.profile\n",
    "    clip_profile.update(height=out_image.shape[-2], \n",
    "                        width=out_image.shape[-1],\n",
    "                        driver='Gtiff',\n",
    "                        transform=out_transform)\n",
    "    \n",
    "    \n",
    "    img_path = Path(raster_to_clip.name)\n",
    "    out_clip_r_name = f'{img_path.name[:-4]}_{suffix}.tif'\n",
    "    \n",
    "    \n",
    "    \n",
    "    with rio.open(os.path.join('./clipped_bands', out_clip_r_name), 'w', **clip_profile) as dst:\n",
    "        dst.write(out_image[0], 1)\n",
    "        \n",
    "    print(f'...Saving in {out_clip_r_name}')"
   ]
  },
  {
   "cell_type": "markdown",
   "metadata": {},
   "source": [
    "# 1. Procedure"
   ]
  },
  {
   "cell_type": "markdown",
   "metadata": {},
   "source": [
    "## 1.1. Extract files"
   ]
  },
  {
   "cell_type": "code",
   "execution_count": null,
   "metadata": {},
   "outputs": [],
   "source": [
    "# import zipfile\n",
    "# with zipfile.ZipFile(\"S2A_MSIL2A_20201018T153621_N0214_R068_T18PVS_20201018T193619.zip\",\"r\") as zip_ref:\n",
    "#     zip_ref.extractall()"
   ]
  },
  {
   "cell_type": "markdown",
   "metadata": {},
   "source": [
    "## 2. Read bands"
   ]
  },
  {
   "cell_type": "code",
   "execution_count": null,
   "metadata": {
    "scrolled": false
   },
   "outputs": [],
   "source": [
    "inpath = r'./S2A_MSIL2A_20201018T153621_N0214_R068_T18PVS_20201018T193619.SAFE/GRANULE/L2A_T18PVS_A027807_20201018T153841/IMG_DATA/'\n",
    "bands = read_bands(inpath, levels=1, suffix='.jp2')"
   ]
  },
  {
   "cell_type": "code",
   "execution_count": null,
   "metadata": {
    "scrolled": true
   },
   "outputs": [],
   "source": [
    "bands"
   ]
  },
  {
   "cell_type": "markdown",
   "metadata": {},
   "source": [
    "## 3. Reescale bands to 10 m"
   ]
  },
  {
   "cell_type": "code",
   "execution_count": null,
   "metadata": {
    "scrolled": false
   },
   "outputs": [],
   "source": [
    "%%time\n",
    "outpath = './resampled_bands'\n",
    "reference_image = bands['02_10m']\n",
    "# Apply upscale function to all bands with >10m resolution\n",
    "rescaled_arrays = [upscale(bands[key], outpath,  reference_image) \n",
    "                   if key[:3] not in [k[:3] for k in bands.keys() if '10m' in k] \n",
    "                   else copy_bands(bands[key], outpath)\n",
    "                   for key in bands.keys()\n",
    "                  ] \n",
    "\n",
    "#No duplicated bands...if already have 10 meters resolution, dont resampled this chanel \n",
    "print('Done!!!')"
   ]
  },
  {
   "cell_type": "markdown",
   "metadata": {},
   "source": [
    "## 4. Read-store reescaled bands\n",
    "### 4.1. Read reescaled bands and store their path in a bands dictionary"
   ]
  },
  {
   "cell_type": "code",
   "execution_count": null,
   "metadata": {},
   "outputs": [],
   "source": [
    "bands_dpath = read_bands(outpath, levels=0, suffix='.*')"
   ]
  },
  {
   "cell_type": "code",
   "execution_count": null,
   "metadata": {},
   "outputs": [],
   "source": [
    "bands_dpath"
   ]
  },
  {
   "cell_type": "markdown",
   "metadata": {},
   "source": [
    "## 4.2. Crop bands or raster with a polygon "
   ]
  },
  {
   "cell_type": "markdown",
   "metadata": {},
   "source": [
    "### Read the polygon with read_goemtries function"
   ]
  },
  {
   "cell_type": "code",
   "execution_count": null,
   "metadata": {},
   "outputs": [],
   "source": [
    "input_json = './polygon_cartagena.json' "
   ]
  },
  {
   "cell_type": "code",
   "execution_count": null,
   "metadata": {
    "scrolled": false
   },
   "outputs": [],
   "source": [
    "shapes = read_geometries(input_json, 'EPSG:4326', 'EPSG:32618',  file=True)"
   ]
  },
  {
   "cell_type": "code",
   "execution_count": null,
   "metadata": {},
   "outputs": [],
   "source": [
    "shapes;"
   ]
  },
  {
   "cell_type": "code",
   "execution_count": null,
   "metadata": {
    "scrolled": true
   },
   "outputs": [],
   "source": [
    "%%time\n",
    "for shape in shapes:\n",
    "    # Create a random suffix for every shape\n",
    "    suffix = ''.join(random.choices(string.ascii_uppercase + string.digits, k=3))\n",
    "    for band_key in bands_dpath.keys():\n",
    "        clip_raster_with_shape(bands_dpath[band_key], [shape], suffix);"
   ]
  },
  {
   "cell_type": "markdown",
   "metadata": {},
   "source": [
    "### 4.3. Open reescaled bands (store their array in a dict) and change the np.dtype"
   ]
  },
  {
   "cell_type": "code",
   "execution_count": null,
   "metadata": {},
   "outputs": [],
   "source": [
    "bands_clipped = r'./clipped_bands'"
   ]
  },
  {
   "cell_type": "code",
   "execution_count": null,
   "metadata": {},
   "outputs": [],
   "source": [
    "bands_clipped_path = read_bands(bands_clipped, levels=0, suffix='.*')"
   ]
  },
  {
   "cell_type": "code",
   "execution_count": null,
   "metadata": {},
   "outputs": [],
   "source": [
    "%%time\n",
    "arr_bands, reference = instantiate_bands(bands_clipped_path, dtype=np.float64)"
   ]
  },
  {
   "cell_type": "code",
   "execution_count": null,
   "metadata": {},
   "outputs": [],
   "source": [
    "reference;"
   ]
  },
  {
   "cell_type": "code",
   "execution_count": null,
   "metadata": {
    "scrolled": true
   },
   "outputs": [],
   "source": [
    "arr_bands"
   ]
  },
  {
   "cell_type": "markdown",
   "metadata": {},
   "source": [
    "## 5. Run model"
   ]
  },
  {
   "cell_type": "code",
   "execution_count": null,
   "metadata": {},
   "outputs": [],
   "source": [
    "%%time\n",
    "out_estimator_path = 'estimator.tif'\n",
    "estimator_mask = run_estimator(arr_bands, reference, out_estimator_path)"
   ]
  },
  {
   "cell_type": "markdown",
   "metadata": {},
   "source": [
    "## 5.1. model to multiband color"
   ]
  },
  {
   "cell_type": "code",
   "execution_count": null,
   "metadata": {},
   "outputs": [],
   "source": [
    "estimator_mask.shape"
   ]
  },
  {
   "cell_type": "code",
   "execution_count": null,
   "metadata": {},
   "outputs": [],
   "source": [
    "# len(estimator_mask[(estimator_mask > 0) & (estimator_mask < 1) ])"
   ]
  },
  {
   "cell_type": "code",
   "execution_count": null,
   "metadata": {},
   "outputs": [],
   "source": [
    "cd = cividis(estimator_mask)"
   ]
  },
  {
   "cell_type": "code",
   "execution_count": null,
   "metadata": {},
   "outputs": [],
   "source": [
    "cd"
   ]
  },
  {
   "cell_type": "markdown",
   "metadata": {},
   "source": [
    "## 5.1 Get the NDWI mask "
   ]
  },
  {
   "cell_type": "code",
   "execution_count": null,
   "metadata": {
    "scrolled": false
   },
   "outputs": [],
   "source": [
    "%%time\n",
    "out_path_NDWI = 'NDWI_col.tif'\n",
    "NDWI_col = NDWI_mask(arr_bands, reference, out_path_NDWI)"
   ]
  },
  {
   "cell_type": "code",
   "execution_count": null,
   "metadata": {},
   "outputs": [],
   "source": [
    "NDWI_col"
   ]
  },
  {
   "cell_type": "markdown",
   "metadata": {},
   "source": [
    "## 5.2 Composite RGB as the base image"
   ]
  },
  {
   "cell_type": "code",
   "execution_count": null,
   "metadata": {},
   "outputs": [],
   "source": [
    "# inpath_rgb = r'./S2A_MSIL2A_20201018T153621_N0214_R068_T18PVS_20201018T193619.SAFE/GRANULE/L2A_T18PVS_A027807_20201018T153841/IMG_DATA/R10m'\n",
    "# bands = read_bands(inpath, levels=1, suffix='.jp2')\n",
    "# out_path_rgb = 'rgb_col.tif'\n",
    "# rgb = composite(inpath_rgb, out_path_rgb, rgb=[4,3,2])\n"
   ]
  },
  {
   "cell_type": "code",
   "execution_count": null,
   "metadata": {},
   "outputs": [],
   "source": [
    "b4 = rio.open(bands_clipped_path['04_10m']).read()\n",
    "b3 = rio.open(bands_clipped_path['03_10m']).read()\n",
    "b2 = rio.open(bands_clipped_path['02_10m']).read()\n",
    "r  = rio.open(bands_clipped_path['01_10m'])"
   ]
  },
  {
   "cell_type": "code",
   "execution_count": null,
   "metadata": {},
   "outputs": [],
   "source": [
    "b4"
   ]
  },
  {
   "cell_type": "code",
   "execution_count": null,
   "metadata": {},
   "outputs": [],
   "source": [
    "%%time\n",
    "emp = rio.open('rgb_clipped.tif','w',driver='Gtiff',\n",
    "                    width=r.width, \n",
    "                    height=r.height, #width and height of any band\n",
    "                    count=3,\n",
    "                    crs=r.crs, #coordenate system\n",
    "                    transform=r.transform, #Transfor from pixel coordinates of source to csr of the input shapes\n",
    "                    dtype=r.dtypes[0])\n",
    "\n",
    "#combine the bands RGB in empty raster\n",
    "\n",
    "emp.write(b2[0],3) #blue\n",
    "emp.write(b3[0],2) #green\n",
    "emp.write(b4[0],1) #red\n",
    "emp.close()"
   ]
  },
  {
   "cell_type": "markdown",
   "metadata": {},
   "source": [
    "# 6. Masks\n",
    "## 6.1 Mask model with NDWI"
   ]
  },
  {
   "cell_type": "code",
   "execution_count": null,
   "metadata": {},
   "outputs": [],
   "source": [
    "%%time\n",
    "model = rio.open('estimator.tif').read()\n",
    "ndwi_mask =  rio.open('NDWI_col.tif').read()\n",
    "rgb_col = rio.open('rgb_clipped.tif').read()"
   ]
  },
  {
   "cell_type": "code",
   "execution_count": null,
   "metadata": {},
   "outputs": [],
   "source": [
    "model.shape"
   ]
  },
  {
   "cell_type": "code",
   "execution_count": null,
   "metadata": {},
   "outputs": [],
   "source": [
    "%%time\n",
    "profile = rio.open('estimator.tif').profile\n",
    "profile.update(dtype=np.float64)\n",
    "masked_model = np.where(ndwi_mask == 1., 0, model)\n",
    "with rio.open('masked_model.tif', 'w', **profile) as dst:\n",
    "    dst.write(masked_model[0], 1)"
   ]
  },
  {
   "cell_type": "code",
   "execution_count": null,
   "metadata": {},
   "outputs": [],
   "source": [
    "masked_model.shape"
   ]
  },
  {
   "cell_type": "markdown",
   "metadata": {},
   "source": [
    "## 6.2 Mask RGB with masked_model\n",
    "\n",
    "### Open original bands from bands dictionary"
   ]
  },
  {
   "cell_type": "code",
   "execution_count": null,
   "metadata": {},
   "outputs": [],
   "source": [
    "# b_2 = bands['b02']\n",
    "# b_3 = bands['b03']\n",
    "# b_4 = bands['b04']"
   ]
  },
  {
   "cell_type": "markdown",
   "metadata": {},
   "source": [
    "### Normalize the bands with normalize function and 2.5 factor"
   ]
  },
  {
   "cell_type": "code",
   "execution_count": null,
   "metadata": {
    "scrolled": true
   },
   "outputs": [],
   "source": [
    "b2_n =normalize(b2)*2.5\n",
    "b3_n =normalize(b3)*2.5\n",
    "b4_n =normalize(b4)*2.5"
   ]
  },
  {
   "cell_type": "code",
   "execution_count": null,
   "metadata": {},
   "outputs": [],
   "source": [
    "print(b4_n.shape)"
   ]
  },
  {
   "cell_type": "markdown",
   "metadata": {},
   "source": [
    "### Masked each band with cividis function and masked model with NDWI"
   ]
  },
  {
   "cell_type": "code",
   "execution_count": null,
   "metadata": {},
   "outputs": [],
   "source": [
    "b2_masked = np.where(masked_model == 0, b2_n, cd[0])\n",
    "b3_masked = np.where(masked_model == 0, b3_n, cd[1])\n",
    "b4_masked = np.where(masked_model == 0, b4_n, cd[2])"
   ]
  },
  {
   "cell_type": "code",
   "execution_count": null,
   "metadata": {},
   "outputs": [],
   "source": [
    "b2_masked.shape"
   ]
  },
  {
   "cell_type": "markdown",
   "metadata": {},
   "source": [
    "### Composite the RGB with new normalize bands (4.3.2)"
   ]
  },
  {
   "cell_type": "code",
   "execution_count": null,
   "metadata": {},
   "outputs": [],
   "source": [
    "%%time\n",
    "masked_rgb = rio.open('rgb_colombia_masked.tif','w',driver='Gtiff',\n",
    "                        width=r.width, \n",
    "                        height=r.height, #width and height of any band\n",
    "                        count=3,\n",
    "                        crs=r.crs, #coordenate system\n",
    "                        transform=r.transform, #Transfor from pixel coordinates of source to csr of the input shapes\n",
    "                        dtype=np.float64)\n",
    "\n",
    "    #combine the bands RGB in empty raster\n",
    "print('Making composite...')\n",
    "masked_rgb.write(b2_masked[0],3) #blue\n",
    "masked_rgb.write(b3_masked[0],2) #green\n",
    "masked_rgb.write(b4_masked[0],1) #red\n",
    "masked_rgb.close()\n",
    "print('Done!')"
   ]
  },
  {
   "cell_type": "code",
   "execution_count": null,
   "metadata": {},
   "outputs": [],
   "source": [
    "inpath = r'./S2A_MSIL2A_20201018T153621_N0214_R068_T18PVS_20201018T193619.SAFE/GRANULE/L2A_T18PVS_A027807_20201018T153841/IMG_DATA/'\n",
    "bands = read_bands(inpath, levels=1, suffix='.jp2')\n",
    "outpath = './resampled_bands'\n",
    "reference_image = bands['02_10m']\n",
    "# Apply upscale function to all bands with >10m resolution\n",
    "rescaled_arrays = [upscale(bands[key], outpath,  reference_image) \n",
    "                   if key[:3] not in [k[:3] for k in bands.keys() if '10m' in k] \n",
    "                   else copy_bands(bands[key], outpath)\n",
    "                   for key in bands.keys()\n",
    "                  ] \n",
    "bands_dpath = read_bands(outpath, levels=0, suffix='.*')\n",
    "\n",
    "input_json = './polygon_cartagena.json' \n",
    "\n",
    "shapes = read_geometries(input_json, 'EPSG:4326', 'EPSG:32618',  file=True)\n",
    "\n",
    "for shape in shapes:\n",
    "    # Create a random suffix for every shape\n",
    "    suffix = ''.join(random.choices(string.ascii_uppercase + string.digits, k=3))\n",
    "    for band_key in bands_dpath.keys():\n",
    "        clip_raster_with_shape(bands_dpath[band_key], [shape], suffix);\n",
    "        \n",
    "        \n",
    "bands_clipped = r'./clipped_bands'\n",
    "\n",
    "bands_clipped_path = read_bands(bands_clipped, levels=0, suffix='.*')\n",
    "\n",
    "arr_bands, reference = instantiate_bands(bands_clipped_path, dtype=np.float64)\n",
    "\n",
    "\n",
    "out_estimator_path = 'estimator.tif'\n",
    "estimator_mask = run_estimator(arr_bands, reference, out_estimator_path)\n",
    "\n",
    "\n",
    "cd = cividis(estimator_mask)\n",
    "\n",
    "out_path_NDWI = 'NDWI_col.tif'\n",
    "NDWI_col = NDWI_mask(arr_bands, reference, out_path_NDWI)\n",
    "\n",
    "b4 = rio.open(bands_clipped_path['04_10m']).read()\n",
    "b3 = rio.open(bands_clipped_path['03_10m']).read()\n",
    "b2 = rio.open(bands_clipped_path['02_10m']).read()\n",
    "r  = rio.open(bands_clipped_path['01_10m'])\n",
    "profile = r.profile\n",
    "\n",
    "\n",
    "emp = rio.open('rgb_clipped.tif','w',driver='Gtiff',\n",
    "                    width=r.width, \n",
    "                    height=r.height, #width and height of any band\n",
    "                    count=3,\n",
    "                    crs=r.crs, #coordenate system\n",
    "                    transform=r.transform, #Transfor from pixel coordinates of source to csr of the input shapes\n",
    "                    dtype=r.dtypes[0])\n",
    "\n",
    "#combine the bands RGB in empty raster\n",
    "\n",
    "emp.write(b2[0],3) #blue\n",
    "emp.write(b3[0],2) #green\n",
    "emp.write(b4[0],1) #red\n",
    "emp.close()\n",
    "\n",
    "\n",
    "model = rio.open('estimator.tif').read()\n",
    "ndwi_mask =  rio.open('NDWI_col.tif').read()\n",
    "rgb_col = rio.open('rgb_clipped.tif').read()\n",
    "\n",
    "\n",
    "profile = rio.open('estimator.tif').profile\n",
    "profile.update(dtype=np.float64)\n",
    "masked_model = np.where(ndwi_mask == 1., 0, model)\n",
    "with rio.open('masked_model.tif', 'w', **profile) as dst:\n",
    "    dst.write(masked_model[0], 1)\n",
    "\n",
    "    \n",
    "b2_n =normalize(b2)*2.5\n",
    "b3_n =normalize(b3)*2.5\n",
    "b4_n =normalize(b4)*2.5\n",
    "\n",
    "\n",
    "b2_masked = np.where(masked_model == 0, b2_n, cd[0])\n",
    "b3_masked = np.where(masked_model == 0, b3_n, cd[1])\n",
    "b4_masked = np.where(masked_model == 0, b4_n, cd[2])\n",
    "\n",
    "\n",
    "masked_rgb = rio.open('rgb_colombia_masked.tif','w',driver='Gtiff',\n",
    "                        width=r.width, \n",
    "                        height=r.height, #width and height of any band\n",
    "                        count=3,\n",
    "                        crs=r.crs, #coordenate system\n",
    "                        transform=r.transform, #Transfor from pixel coordinates of source to csr of the input shapes\n",
    "                        dtype=np.float64)\n",
    "\n",
    "    #combine the bands RGB in empty raster\n",
    "print('Making composite...')\n",
    "masked_rgb.write(b2_masked[0],3) #blue\n",
    "masked_rgb.write(b3_masked[0],2) #green\n",
    "masked_rgb.write(b4_masked[0],1) #red\n",
    "masked_rgb.close()\n",
    "print('Done!')"
   ]
  },
  {
   "cell_type": "code",
   "execution_count": null,
   "metadata": {},
   "outputs": [],
   "source": [
    "outpath = 'plastic_shape.shp'\n",
    "shapes, coordenates = get_coords('masked_model.tif', outpath)"
   ]
  },
  {
   "cell_type": "code",
   "execution_count": null,
   "metadata": {},
   "outputs": [],
   "source": [
    "rio.open('masked_model.tif').profile"
   ]
  },
  {
   "cell_type": "code",
   "execution_count": 13,
   "metadata": {},
   "outputs": [
    {
     "ename": "AttributeError",
     "evalue": "'GeoDataFrame' object has no attribute 'proyect'",
     "output_type": "error",
     "traceback": [
      "\u001b[0;31m---------------------------------------------------------------------------\u001b[0m",
      "\u001b[0;31mAttributeError\u001b[0m                            Traceback (most recent call last)",
      "\u001b[0;32m<ipython-input-13-6a5437905a26>\u001b[0m in \u001b[0;36m<module>\u001b[0;34m\u001b[0m\n\u001b[1;32m      9\u001b[0m \u001b[0;34m\u001b[0m\u001b[0m\n\u001b[1;32m     10\u001b[0m \u001b[0md\u001b[0m \u001b[0;34m=\u001b[0m \u001b[0;34m{\u001b[0m\u001b[0;34m'geometry'\u001b[0m\u001b[0;34m:\u001b[0m \u001b[0mcoordenates\u001b[0m\u001b[0;34m}\u001b[0m\u001b[0;34m\u001b[0m\u001b[0;34m\u001b[0m\u001b[0m\n\u001b[0;32m---> 11\u001b[0;31m \u001b[0mgdf\u001b[0m \u001b[0;34m=\u001b[0m \u001b[0mgpd\u001b[0m\u001b[0;34m.\u001b[0m\u001b[0mGeoDataFrame\u001b[0m\u001b[0;34m(\u001b[0m\u001b[0md\u001b[0m\u001b[0;34m,\u001b[0m \u001b[0mindex\u001b[0m\u001b[0;34m=\u001b[0m\u001b[0mrange\u001b[0m\u001b[0;34m(\u001b[0m\u001b[0mlen\u001b[0m\u001b[0;34m(\u001b[0m\u001b[0mcoordenates\u001b[0m\u001b[0;34m)\u001b[0m\u001b[0;34m)\u001b[0m\u001b[0;34m)\u001b[0m\u001b[0;34m.\u001b[0m\u001b[0mproyect\u001b[0m\u001b[0;34m(\u001b[0m\u001b[0mepsg\u001b[0m\u001b[0;34m=\u001b[0m\u001b[0;36m32618\u001b[0m\u001b[0;34m)\u001b[0m\u001b[0;34m\u001b[0m\u001b[0;34m\u001b[0m\u001b[0m\n\u001b[0m\u001b[1;32m     12\u001b[0m \u001b[0;34m\u001b[0m\u001b[0m\n\u001b[1;32m     13\u001b[0m \u001b[0;34m\u001b[0m\u001b[0m\n",
      "\u001b[0;32m/opt/conda/lib/python3.8/site-packages/pandas/core/generic.py\u001b[0m in \u001b[0;36m__getattr__\u001b[0;34m(self, name)\u001b[0m\n\u001b[1;32m   5134\u001b[0m             \u001b[0;32mif\u001b[0m \u001b[0mself\u001b[0m\u001b[0;34m.\u001b[0m\u001b[0m_info_axis\u001b[0m\u001b[0;34m.\u001b[0m\u001b[0m_can_hold_identifiers_and_holds_name\u001b[0m\u001b[0;34m(\u001b[0m\u001b[0mname\u001b[0m\u001b[0;34m)\u001b[0m\u001b[0;34m:\u001b[0m\u001b[0;34m\u001b[0m\u001b[0;34m\u001b[0m\u001b[0m\n\u001b[1;32m   5135\u001b[0m                 \u001b[0;32mreturn\u001b[0m \u001b[0mself\u001b[0m\u001b[0;34m[\u001b[0m\u001b[0mname\u001b[0m\u001b[0;34m]\u001b[0m\u001b[0;34m\u001b[0m\u001b[0;34m\u001b[0m\u001b[0m\n\u001b[0;32m-> 5136\u001b[0;31m             \u001b[0;32mreturn\u001b[0m \u001b[0mobject\u001b[0m\u001b[0;34m.\u001b[0m\u001b[0m__getattribute__\u001b[0m\u001b[0;34m(\u001b[0m\u001b[0mself\u001b[0m\u001b[0;34m,\u001b[0m \u001b[0mname\u001b[0m\u001b[0;34m)\u001b[0m\u001b[0;34m\u001b[0m\u001b[0;34m\u001b[0m\u001b[0m\n\u001b[0m\u001b[1;32m   5137\u001b[0m \u001b[0;34m\u001b[0m\u001b[0m\n\u001b[1;32m   5138\u001b[0m     \u001b[0;32mdef\u001b[0m \u001b[0m__setattr__\u001b[0m\u001b[0;34m(\u001b[0m\u001b[0mself\u001b[0m\u001b[0;34m,\u001b[0m \u001b[0mname\u001b[0m\u001b[0;34m:\u001b[0m \u001b[0mstr\u001b[0m\u001b[0;34m,\u001b[0m \u001b[0mvalue\u001b[0m\u001b[0;34m)\u001b[0m \u001b[0;34m->\u001b[0m \u001b[0;32mNone\u001b[0m\u001b[0;34m:\u001b[0m\u001b[0;34m\u001b[0m\u001b[0;34m\u001b[0m\u001b[0m\n",
      "\u001b[0;31mAttributeError\u001b[0m: 'GeoDataFrame' object has no attribute 'proyect'"
     ]
    }
   ],
   "source": [
    "with rio.open('masked_model.tif') as src:\n",
    "    profile = src.profile\n",
    "    file = src.read(1).astype(np.float32)\n",
    "    coordenates = []\n",
    "    coordenate_list = []\n",
    "    for shp, val in rio.features.shapes(file, transform=profile['transform']):\n",
    "        coordenates.append(shape(shp))\n",
    "        coordenate_list.append(shp)\n",
    "\n",
    "d = {'geometry': coordenates}\n",
    "gdf = gpd.GeoDataFrame(d, index=range(len(coordenates))).set_crs(epsg=32618)\n",
    "gdf.proyect()\n",
    "gdf.to_file(driver='ESRI Shapefile', filename=outpath)  \n",
    "\n",
    "    "
   ]
  },
  {
   "cell_type": "code",
   "execution_count": 17,
   "metadata": {},
   "outputs": [],
   "source": [
    "gdf.project?"
   ]
  },
  {
   "cell_type": "code",
   "execution_count": null,
   "metadata": {},
   "outputs": [],
   "source": [
    "your_gdf.crs = \"EPSG:4326\""
   ]
  },
  {
   "cell_type": "code",
   "execution_count": null,
   "metadata": {},
   "outputs": [],
   "source": [
    "    coordenates = []\n",
    "    coordenate_list = []\n",
    "    for shp, val in rio.features.shapes(file, transform=profile['transform']):\n",
    "        coordenates.append(shape(shp))\n",
    "        coordenate_list.append(shp)\n",
    "\n",
    "d = {'geometry': coordenates}\n",
    "gdf = gpd.GeoDataFrame(d, index=range(len(coordenates))).to_crs('EPSG:32631')\n",
    "gdf.to_file(driver='ESRI Shapefile', filename=outpath)  \n",
    "\n",
    "\n",
    "return gdf, coordenate_list"
   ]
  },
  {
   "cell_type": "code",
   "execution_count": null,
   "metadata": {},
   "outputs": [],
   "source": [
    "shapes"
   ]
  }
 ],
 "metadata": {
  "kernelspec": {
   "display_name": "Python 3",
   "language": "python",
   "name": "python3"
  },
  "language_info": {
   "codemirror_mode": {
    "name": "ipython",
    "version": 3
   },
   "file_extension": ".py",
   "mimetype": "text/x-python",
   "name": "python",
   "nbconvert_exporter": "python",
   "pygments_lexer": "ipython3",
   "version": "3.8.5"
  }
 },
 "nbformat": 4,
 "nbformat_minor": 4
}
